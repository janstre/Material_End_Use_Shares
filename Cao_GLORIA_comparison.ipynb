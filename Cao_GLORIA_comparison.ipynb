{
 "cells": [
  {
   "cell_type": "code",
   "execution_count": 2,
   "outputs": [],
   "source": [
    "%load_ext autoreload\n",
    "%autoreload 2"
   ],
   "metadata": {
    "collapsed": false,
    "ExecuteTime": {
     "start_time": "2023-06-22T15:18:58.836530Z",
     "end_time": "2023-06-22T15:18:58.860457Z"
    }
   }
  },
  {
   "cell_type": "code",
   "execution_count": 72,
   "outputs": [],
   "source": [
    "import numpy as np\n",
    "import glob\n",
    "import os\n",
    "import pandas as pd\n",
    "from enduse_comparison_functions import combine_enduse_from_csv, create_two_way_correspondences, create_enduse_by_country, check_enduse_integrity, transform_gloria_dict_to_df\n",
    "from enduse_comparison_plots import country_all_enduses_panel"
   ],
   "metadata": {
    "collapsed": false,
    "ExecuteTime": {
     "start_time": "2023-06-22T15:38:38.103328Z",
     "end_time": "2023-06-22T15:38:38.145231Z"
    }
   }
  },
  {
   "cell_type": "code",
   "execution_count": 73,
   "outputs": [],
   "source": [
    "gloria_csv_path = os.path.join(os.getcwd(), \"input_data\", \"GLORIA_basic_WIO_MF_EUT_end_use_shares_4_crosschecking\")\n",
    "csv_glob = os.path.join(gloria_csv_path, \"*.csv\")\n",
    "csv_files = glob.glob(csv_glob)"
   ],
   "metadata": {
    "collapsed": false,
    "ExecuteTime": {
     "start_time": "2023-06-22T15:38:38.523662Z",
     "end_time": "2023-06-22T15:38:38.566245Z"
    }
   }
  },
  {
   "cell_type": "code",
   "execution_count": 74,
   "outputs": [],
   "source": [
    "all_enduses = combine_enduse_from_csv(csv_files)"
   ],
   "metadata": {
    "collapsed": false,
    "ExecuteTime": {
     "start_time": "2023-06-22T15:38:38.960784Z",
     "end_time": "2023-06-22T15:38:45.858273Z"
    }
   }
  },
  {
   "cell_type": "code",
   "execution_count": 75,
   "outputs": [],
   "source": [
    "gloria_exiobase_correspondence = pd.read_excel(os.path.join(\"input_data\", \"2023_GLORIA_EXIOBASE_corresp_aggr.xlsx\"), sheet_name=\"values\")"
   ],
   "metadata": {
    "collapsed": false,
    "ExecuteTime": {
     "start_time": "2023-06-22T15:38:45.858938Z",
     "end_time": "2023-06-22T15:38:45.898176Z"
    }
   }
  },
  {
   "cell_type": "code",
   "execution_count": 76,
   "outputs": [],
   "source": [
    "correspondences = gloria_exiobase_correspondence.to_dict(\"records\")"
   ],
   "metadata": {
    "collapsed": false,
    "ExecuteTime": {
     "start_time": "2023-06-22T15:38:45.893850Z",
     "end_time": "2023-06-22T15:38:45.919920Z"
    }
   }
  },
  {
   "cell_type": "code",
   "execution_count": 77,
   "outputs": [],
   "source": [
    "correspondence_gloria_to_exio, correspondence_exio_to_gloria, equal_names = create_two_way_correspondences(correspondences)"
   ],
   "metadata": {
    "collapsed": false,
    "ExecuteTime": {
     "start_time": "2023-06-22T15:38:45.920124Z",
     "end_time": "2023-06-22T15:38:45.944211Z"
    }
   }
  },
  {
   "cell_type": "code",
   "execution_count": 78,
   "outputs": [],
   "source": [
    "country_material_enduse = create_enduse_by_country(all_enduses, gloria_exiobase_correspondence)"
   ],
   "metadata": {
    "collapsed": false,
    "ExecuteTime": {
     "start_time": "2023-06-22T15:38:45.944824Z",
     "end_time": "2023-06-22T15:39:19.561768Z"
    }
   }
  },
  {
   "cell_type": "code",
   "execution_count": 79,
   "outputs": [],
   "source": [
    "comparison_path = \"GLORIA_EXIOBASE_SHIPMENT_VERGLEICH\"\n",
    "comparison_subfolder = \"physical unit data + correspondence\"\n",
    "cao_filename = \"Cao_2016_Cement_EndUseShares.xlsx\"\n",
    "cao_data = pd.read_excel(os.path.join(comparison_path, comparison_subfolder, cao_filename), sheet_name=None)\n",
    "cao_correspondences = pd.read_excel(os.path.join(comparison_path, comparison_subfolder, \"Cement_Cao_2016_Concordances.xlsx\"), sheet_name=None)"
   ],
   "metadata": {
    "collapsed": false,
    "ExecuteTime": {
     "start_time": "2023-06-22T15:39:19.563495Z",
     "end_time": "2023-06-22T15:39:22.521433Z"
    }
   }
  },
  {
   "cell_type": "code",
   "execution_count": 80,
   "outputs": [],
   "source": [
    "country_correspondences = pd.read_excel(os.path.join(comparison_path, \"MISO2_country_region_correspondence.xlsx\"), sheet_name=\"values\")"
   ],
   "metadata": {
    "collapsed": false,
    "ExecuteTime": {
     "start_time": "2023-06-22T15:39:22.521676Z",
     "end_time": "2023-06-22T15:39:22.632410Z"
    }
   }
  },
  {
   "cell_type": "code",
   "execution_count": 81,
   "outputs": [],
   "source": [
    "country_code_material_enduse = transform_gloria_dict_to_df(country_material_enduse, country_correspondences)"
   ],
   "metadata": {
    "collapsed": false,
    "ExecuteTime": {
     "start_time": "2023-06-22T15:39:22.632569Z",
     "end_time": "2023-06-22T15:39:24.083762Z"
    }
   }
  },
  {
   "cell_type": "code",
   "execution_count": 82,
   "outputs": [],
   "source": [
    "cao_index = [\"Country\", \"Region\"]\n",
    "cao_enduses = cao_data[\"enduse_correspondence\"][\"CAO END_USES\"].values\n",
    "melted_df = pd.melt(cao_data[\"values\"], id_vars=cao_index+[\"Year\"],\n",
    "                    value_vars=cao_enduses,\n",
    "                    var_name=\"Enduse\")"
   ],
   "metadata": {
    "collapsed": false,
    "ExecuteTime": {
     "start_time": "2023-06-22T15:39:24.084689Z",
     "end_time": "2023-06-22T15:39:24.116119Z"
    }
   }
  },
  {
   "cell_type": "code",
   "execution_count": 83,
   "outputs": [],
   "source": [
    "melted_df = melted_df.set_index(cao_index)"
   ],
   "metadata": {
    "collapsed": false,
    "ExecuteTime": {
     "start_time": "2023-06-22T15:39:24.118241Z",
     "end_time": "2023-06-22T15:39:24.146687Z"
    }
   }
  },
  {
   "cell_type": "code",
   "execution_count": 84,
   "outputs": [],
   "source": [
    "cao_by_country = melted_df.pivot_table(index=cao_index+[\"Enduse\"], columns=\"Year\", values=\"value\")"
   ],
   "metadata": {
    "collapsed": false,
    "ExecuteTime": {
     "start_time": "2023-06-22T15:39:24.146831Z",
     "end_time": "2023-06-22T15:39:24.188706Z"
    }
   }
  },
  {
   "cell_type": "code",
   "execution_count": 85,
   "outputs": [],
   "source": [
    "cao_by_country[\"MISO2_Material\"] = \"Concrete\"\n",
    "cao_by_country = cao_by_country.set_index(\"MISO2_Material\", append=True)"
   ],
   "metadata": {
    "collapsed": false,
    "ExecuteTime": {
     "start_time": "2023-06-22T15:39:24.189360Z",
     "end_time": "2023-06-22T15:39:24.216078Z"
    }
   }
  },
  {
   "cell_type": "code",
   "execution_count": 86,
   "outputs": [],
   "source": [
    "cao_enduse_correspondence = cao_data[\"enduse_correspondence\"].to_dict(orient=\"records\")"
   ],
   "metadata": {
    "collapsed": false,
    "ExecuteTime": {
     "start_time": "2023-06-22T15:39:24.215817Z",
     "end_time": "2023-06-22T15:39:24.243875Z"
    }
   }
  },
  {
   "cell_type": "code",
   "execution_count": 87,
   "outputs": [],
   "source": [
    "cao_gloria_correspondence = create_two_way_correspondences(cao_enduse_correspondence, \"CAO END_USES\", \"GLORIA END_USES\")"
   ],
   "metadata": {
    "collapsed": false,
    "ExecuteTime": {
     "start_time": "2023-06-22T15:39:24.240705Z",
     "end_time": "2023-06-22T15:39:24.263831Z"
    }
   }
  },
  {
   "cell_type": "code",
   "execution_count": 89,
   "outputs": [],
   "source": [
    "cao_by_country = cao_by_country.reset_index()\n",
    "for cao_enduse, cao_enduse_list in cao_gloria_correspondence[\"CAO END_USES\"].items():\n",
    "    cao_by_country[\"Enduse\"].replace({cao_enduse: cao_enduse_list}, inplace=True)"
   ],
   "metadata": {
    "collapsed": false,
    "ExecuteTime": {
     "start_time": "2023-06-22T15:39:24.288591Z",
     "end_time": "2023-06-22T15:39:24.328414Z"
    }
   }
  },
  {
   "cell_type": "code",
   "execution_count": 90,
   "outputs": [],
   "source": [
    "full_index = [\"Country\", \"Region\", \"Enduse\", \"MISO2_Material\"]\n",
    "cao_by_country = cao_by_country.set_index(full_index)"
   ],
   "metadata": {
    "collapsed": false,
    "ExecuteTime": {
     "start_time": "2023-06-22T15:39:24.316561Z",
     "end_time": "2023-06-22T15:39:24.342137Z"
    }
   }
  },
  {
   "cell_type": "code",
   "execution_count": 91,
   "outputs": [],
   "source": [
    "cao_by_country = cao_by_country.groupby(full_index).sum()"
   ],
   "metadata": {
    "collapsed": false,
    "ExecuteTime": {
     "start_time": "2023-06-22T15:39:24.342379Z",
     "end_time": "2023-06-22T15:39:24.367707Z"
    }
   }
  },
  {
   "cell_type": "code",
   "execution_count": 92,
   "outputs": [],
   "source": [
    "cao_countries = cao_by_country.reset_index()[[\"Country\"]]"
   ],
   "metadata": {
    "collapsed": false,
    "ExecuteTime": {
     "start_time": "2023-06-22T15:39:24.368329Z",
     "end_time": "2023-06-22T15:39:24.394295Z"
    }
   }
  },
  {
   "cell_type": "code",
   "execution_count": 94,
   "outputs": [],
   "source": [
    "miso_countries = cao_correspondences[\"region concordance\"][[\"MISO2_name\", \"Source_name\"]]"
   ],
   "metadata": {
    "collapsed": false,
    "ExecuteTime": {
     "start_time": "2023-06-22T15:39:24.420218Z",
     "end_time": "2023-06-22T15:39:24.462200Z"
    }
   }
  },
  {
   "cell_type": "code",
   "execution_count": 95,
   "outputs": [],
   "source": [
    "miso_countries.columns = [\"MISO2_country\", \"Country\"]"
   ],
   "metadata": {
    "collapsed": false,
    "ExecuteTime": {
     "start_time": "2023-06-22T15:39:24.445448Z",
     "end_time": "2023-06-22T15:39:24.481516Z"
    }
   }
  },
  {
   "cell_type": "code",
   "execution_count": 96,
   "outputs": [],
   "source": [
    "miso_countries = miso_countries.set_index(\"Country\")"
   ],
   "metadata": {
    "collapsed": false,
    "ExecuteTime": {
     "start_time": "2023-06-22T15:39:24.470783Z",
     "end_time": "2023-06-22T15:39:24.496804Z"
    }
   }
  },
  {
   "cell_type": "code",
   "execution_count": 97,
   "outputs": [],
   "source": [
    "cao_by_country = cao_by_country.reset_index().set_index(\"Country\")"
   ],
   "metadata": {
    "collapsed": false,
    "ExecuteTime": {
     "start_time": "2023-06-22T15:39:24.497134Z",
     "end_time": "2023-06-22T15:39:24.525932Z"
    }
   }
  },
  {
   "cell_type": "code",
   "execution_count": 99,
   "outputs": [],
   "source": [
    "joined_countries = miso_countries.join(cao_by_country, how=\"left\")"
   ],
   "metadata": {
    "collapsed": false,
    "ExecuteTime": {
     "start_time": "2023-06-22T15:39:24.569045Z",
     "end_time": "2023-06-22T15:39:24.616063Z"
    }
   }
  },
  {
   "cell_type": "code",
   "execution_count": 100,
   "outputs": [],
   "source": [
    "joined_countries = joined_countries.reset_index().set_index([\"MISO2_country\", \"Enduse\", \"MISO2_Material\"])"
   ],
   "metadata": {
    "collapsed": false,
    "ExecuteTime": {
     "start_time": "2023-06-22T15:39:24.598400Z",
     "end_time": "2023-06-22T15:39:24.667677Z"
    }
   }
  },
  {
   "cell_type": "code",
   "execution_count": 101,
   "outputs": [],
   "source": [
    "joined_countries[\"source\"] = \"Cao 2016\""
   ],
   "metadata": {
    "collapsed": false,
    "ExecuteTime": {
     "start_time": "2023-06-22T15:39:24.632187Z",
     "end_time": "2023-06-22T15:39:24.670790Z"
    }
   }
  },
  {
   "cell_type": "code",
   "execution_count": 111,
   "outputs": [],
   "source": [
    "joined_countries.set_index(\"source\",append=True,inplace=True)"
   ],
   "metadata": {
    "collapsed": false,
    "ExecuteTime": {
     "start_time": "2023-06-22T15:40:27.579913Z",
     "end_time": "2023-06-22T15:40:27.606735Z"
    }
   }
  },
  {
   "cell_type": "code",
   "execution_count": 188,
   "outputs": [],
   "source": [
    "gloria_subset_to_cao = country_code_material_enduse.loc[(slice(None), slice(None), list(cao_gloria_correspondence[\"GLORIA END_USES\"].keys()), [\"Concrete\"])].copy()"
   ],
   "metadata": {
    "collapsed": false,
    "ExecuteTime": {
     "start_time": "2023-06-22T17:34:40.146866Z",
     "end_time": "2023-06-22T17:34:40.393249Z"
    }
   }
  },
  {
   "cell_type": "code",
   "execution_count": 189,
   "outputs": [],
   "source": [
    "gloria_subset_to_cao[\"source\"] = \"GLORIA\""
   ],
   "metadata": {
    "collapsed": false,
    "ExecuteTime": {
     "start_time": "2023-06-22T17:34:40.836484Z",
     "end_time": "2023-06-22T17:34:40.863954Z"
    }
   }
  },
  {
   "cell_type": "code",
   "execution_count": 114,
   "outputs": [],
   "source": [
    "gloria_subset_to_cao = gloria_subset_to_cao.reset_index().set_index([\"MISO2_country\", \"Enduse\", \"MISO2_Material\", \"source\"])"
   ],
   "metadata": {
    "collapsed": false,
    "ExecuteTime": {
     "start_time": "2023-06-22T15:40:42.375567Z",
     "end_time": "2023-06-22T15:40:42.405079Z"
    }
   }
  },
  {
   "cell_type": "code",
   "execution_count": 119,
   "outputs": [],
   "source": [
    "gloria_subset_to_cao = gloria_subset_to_cao.drop(\"Code ISO3166-1\",axis=1)"
   ],
   "metadata": {
    "collapsed": false,
    "ExecuteTime": {
     "start_time": "2023-06-22T15:41:36.865222Z",
     "end_time": "2023-06-22T15:41:36.899854Z"
    }
   }
  },
  {
   "cell_type": "code",
   "execution_count": 128,
   "outputs": [],
   "source": [
    "gloria_subset_to_cao.columns = np.arange(1990,2021)"
   ],
   "metadata": {
    "collapsed": false,
    "ExecuteTime": {
     "start_time": "2023-06-22T15:46:31.519254Z",
     "end_time": "2023-06-22T15:46:31.591767Z"
    }
   }
  },
  {
   "cell_type": "code",
   "execution_count": 133,
   "outputs": [
    {
     "ename": "KeyError",
     "evalue": "\"['Country', 'Region'] not found in axis\"",
     "output_type": "error",
     "traceback": [
      "\u001B[0;31m---------------------------------------------------------------------------\u001B[0m",
      "\u001B[0;31mKeyError\u001B[0m                                  Traceback (most recent call last)",
      "\u001B[0;32m/var/folders/4q/804dfx4s3fngls3qxy2frhd80000gp/T/ipykernel_89588/956638289.py\u001B[0m in \u001B[0;36m<module>\u001B[0;34m\u001B[0m\n\u001B[0;32m----> 1\u001B[0;31m \u001B[0mjoined_countries\u001B[0m \u001B[0;34m=\u001B[0m \u001B[0mjoined_countries\u001B[0m\u001B[0;34m.\u001B[0m\u001B[0mdrop\u001B[0m\u001B[0;34m(\u001B[0m\u001B[0;34m[\u001B[0m\u001B[0;34m\"Country\"\u001B[0m\u001B[0;34m,\u001B[0m \u001B[0;34m\"Region\"\u001B[0m\u001B[0;34m]\u001B[0m\u001B[0;34m,\u001B[0m \u001B[0maxis\u001B[0m\u001B[0;34m=\u001B[0m\u001B[0;36m1\u001B[0m\u001B[0;34m)\u001B[0m\u001B[0;34m\u001B[0m\u001B[0;34m\u001B[0m\u001B[0m\n\u001B[0m\u001B[1;32m      2\u001B[0m \u001B[0mjoined_countries\u001B[0m\u001B[0;34m.\u001B[0m\u001B[0mcolumns\u001B[0m\u001B[0;34m\u001B[0m\u001B[0;34m\u001B[0m\u001B[0m\n",
      "\u001B[0;32m~/opt/anaconda3/lib/python3.9/site-packages/pandas/util/_decorators.py\u001B[0m in \u001B[0;36mwrapper\u001B[0;34m(*args, **kwargs)\u001B[0m\n\u001B[1;32m    309\u001B[0m                     \u001B[0mstacklevel\u001B[0m\u001B[0;34m=\u001B[0m\u001B[0mstacklevel\u001B[0m\u001B[0;34m,\u001B[0m\u001B[0;34m\u001B[0m\u001B[0;34m\u001B[0m\u001B[0m\n\u001B[1;32m    310\u001B[0m                 )\n\u001B[0;32m--> 311\u001B[0;31m             \u001B[0;32mreturn\u001B[0m \u001B[0mfunc\u001B[0m\u001B[0;34m(\u001B[0m\u001B[0;34m*\u001B[0m\u001B[0margs\u001B[0m\u001B[0;34m,\u001B[0m \u001B[0;34m**\u001B[0m\u001B[0mkwargs\u001B[0m\u001B[0;34m)\u001B[0m\u001B[0;34m\u001B[0m\u001B[0;34m\u001B[0m\u001B[0m\n\u001B[0m\u001B[1;32m    312\u001B[0m \u001B[0;34m\u001B[0m\u001B[0m\n\u001B[1;32m    313\u001B[0m         \u001B[0;32mreturn\u001B[0m \u001B[0mwrapper\u001B[0m\u001B[0;34m\u001B[0m\u001B[0;34m\u001B[0m\u001B[0m\n",
      "\u001B[0;32m~/opt/anaconda3/lib/python3.9/site-packages/pandas/core/frame.py\u001B[0m in \u001B[0;36mdrop\u001B[0;34m(self, labels, axis, index, columns, level, inplace, errors)\u001B[0m\n\u001B[1;32m   4955\u001B[0m                 \u001B[0mweight\u001B[0m  \u001B[0;36m1.0\u001B[0m     \u001B[0;36m0.8\u001B[0m\u001B[0;34m\u001B[0m\u001B[0;34m\u001B[0m\u001B[0m\n\u001B[1;32m   4956\u001B[0m         \"\"\"\n\u001B[0;32m-> 4957\u001B[0;31m         return super().drop(\n\u001B[0m\u001B[1;32m   4958\u001B[0m             \u001B[0mlabels\u001B[0m\u001B[0;34m=\u001B[0m\u001B[0mlabels\u001B[0m\u001B[0;34m,\u001B[0m\u001B[0;34m\u001B[0m\u001B[0;34m\u001B[0m\u001B[0m\n\u001B[1;32m   4959\u001B[0m             \u001B[0maxis\u001B[0m\u001B[0;34m=\u001B[0m\u001B[0maxis\u001B[0m\u001B[0;34m,\u001B[0m\u001B[0;34m\u001B[0m\u001B[0;34m\u001B[0m\u001B[0m\n",
      "\u001B[0;32m~/opt/anaconda3/lib/python3.9/site-packages/pandas/core/generic.py\u001B[0m in \u001B[0;36mdrop\u001B[0;34m(self, labels, axis, index, columns, level, inplace, errors)\u001B[0m\n\u001B[1;32m   4265\u001B[0m         \u001B[0;32mfor\u001B[0m \u001B[0maxis\u001B[0m\u001B[0;34m,\u001B[0m \u001B[0mlabels\u001B[0m \u001B[0;32min\u001B[0m \u001B[0maxes\u001B[0m\u001B[0;34m.\u001B[0m\u001B[0mitems\u001B[0m\u001B[0;34m(\u001B[0m\u001B[0;34m)\u001B[0m\u001B[0;34m:\u001B[0m\u001B[0;34m\u001B[0m\u001B[0;34m\u001B[0m\u001B[0m\n\u001B[1;32m   4266\u001B[0m             \u001B[0;32mif\u001B[0m \u001B[0mlabels\u001B[0m \u001B[0;32mis\u001B[0m \u001B[0;32mnot\u001B[0m \u001B[0;32mNone\u001B[0m\u001B[0;34m:\u001B[0m\u001B[0;34m\u001B[0m\u001B[0;34m\u001B[0m\u001B[0m\n\u001B[0;32m-> 4267\u001B[0;31m                 \u001B[0mobj\u001B[0m \u001B[0;34m=\u001B[0m \u001B[0mobj\u001B[0m\u001B[0;34m.\u001B[0m\u001B[0m_drop_axis\u001B[0m\u001B[0;34m(\u001B[0m\u001B[0mlabels\u001B[0m\u001B[0;34m,\u001B[0m \u001B[0maxis\u001B[0m\u001B[0;34m,\u001B[0m \u001B[0mlevel\u001B[0m\u001B[0;34m=\u001B[0m\u001B[0mlevel\u001B[0m\u001B[0;34m,\u001B[0m \u001B[0merrors\u001B[0m\u001B[0;34m=\u001B[0m\u001B[0merrors\u001B[0m\u001B[0;34m)\u001B[0m\u001B[0;34m\u001B[0m\u001B[0;34m\u001B[0m\u001B[0m\n\u001B[0m\u001B[1;32m   4268\u001B[0m \u001B[0;34m\u001B[0m\u001B[0m\n\u001B[1;32m   4269\u001B[0m         \u001B[0;32mif\u001B[0m \u001B[0minplace\u001B[0m\u001B[0;34m:\u001B[0m\u001B[0;34m\u001B[0m\u001B[0;34m\u001B[0m\u001B[0m\n",
      "\u001B[0;32m~/opt/anaconda3/lib/python3.9/site-packages/pandas/core/generic.py\u001B[0m in \u001B[0;36m_drop_axis\u001B[0;34m(self, labels, axis, level, errors, consolidate, only_slice)\u001B[0m\n\u001B[1;32m   4309\u001B[0m                 \u001B[0mnew_axis\u001B[0m \u001B[0;34m=\u001B[0m \u001B[0maxis\u001B[0m\u001B[0;34m.\u001B[0m\u001B[0mdrop\u001B[0m\u001B[0;34m(\u001B[0m\u001B[0mlabels\u001B[0m\u001B[0;34m,\u001B[0m \u001B[0mlevel\u001B[0m\u001B[0;34m=\u001B[0m\u001B[0mlevel\u001B[0m\u001B[0;34m,\u001B[0m \u001B[0merrors\u001B[0m\u001B[0;34m=\u001B[0m\u001B[0merrors\u001B[0m\u001B[0;34m)\u001B[0m\u001B[0;34m\u001B[0m\u001B[0;34m\u001B[0m\u001B[0m\n\u001B[1;32m   4310\u001B[0m             \u001B[0;32melse\u001B[0m\u001B[0;34m:\u001B[0m\u001B[0;34m\u001B[0m\u001B[0;34m\u001B[0m\u001B[0m\n\u001B[0;32m-> 4311\u001B[0;31m                 \u001B[0mnew_axis\u001B[0m \u001B[0;34m=\u001B[0m \u001B[0maxis\u001B[0m\u001B[0;34m.\u001B[0m\u001B[0mdrop\u001B[0m\u001B[0;34m(\u001B[0m\u001B[0mlabels\u001B[0m\u001B[0;34m,\u001B[0m \u001B[0merrors\u001B[0m\u001B[0;34m=\u001B[0m\u001B[0merrors\u001B[0m\u001B[0;34m)\u001B[0m\u001B[0;34m\u001B[0m\u001B[0;34m\u001B[0m\u001B[0m\n\u001B[0m\u001B[1;32m   4312\u001B[0m             \u001B[0mindexer\u001B[0m \u001B[0;34m=\u001B[0m \u001B[0maxis\u001B[0m\u001B[0;34m.\u001B[0m\u001B[0mget_indexer\u001B[0m\u001B[0;34m(\u001B[0m\u001B[0mnew_axis\u001B[0m\u001B[0;34m)\u001B[0m\u001B[0;34m\u001B[0m\u001B[0;34m\u001B[0m\u001B[0m\n\u001B[1;32m   4313\u001B[0m \u001B[0;34m\u001B[0m\u001B[0m\n",
      "\u001B[0;32m~/opt/anaconda3/lib/python3.9/site-packages/pandas/core/indexes/base.py\u001B[0m in \u001B[0;36mdrop\u001B[0;34m(self, labels, errors)\u001B[0m\n\u001B[1;32m   6659\u001B[0m         \u001B[0;32mif\u001B[0m \u001B[0mmask\u001B[0m\u001B[0;34m.\u001B[0m\u001B[0many\u001B[0m\u001B[0;34m(\u001B[0m\u001B[0;34m)\u001B[0m\u001B[0;34m:\u001B[0m\u001B[0;34m\u001B[0m\u001B[0;34m\u001B[0m\u001B[0m\n\u001B[1;32m   6660\u001B[0m             \u001B[0;32mif\u001B[0m \u001B[0merrors\u001B[0m \u001B[0;34m!=\u001B[0m \u001B[0;34m\"ignore\"\u001B[0m\u001B[0;34m:\u001B[0m\u001B[0;34m\u001B[0m\u001B[0;34m\u001B[0m\u001B[0m\n\u001B[0;32m-> 6661\u001B[0;31m                 \u001B[0;32mraise\u001B[0m \u001B[0mKeyError\u001B[0m\u001B[0;34m(\u001B[0m\u001B[0;34mf\"{list(labels[mask])} not found in axis\"\u001B[0m\u001B[0;34m)\u001B[0m\u001B[0;34m\u001B[0m\u001B[0;34m\u001B[0m\u001B[0m\n\u001B[0m\u001B[1;32m   6662\u001B[0m             \u001B[0mindexer\u001B[0m \u001B[0;34m=\u001B[0m \u001B[0mindexer\u001B[0m\u001B[0;34m[\u001B[0m\u001B[0;34m~\u001B[0m\u001B[0mmask\u001B[0m\u001B[0;34m]\u001B[0m\u001B[0;34m\u001B[0m\u001B[0;34m\u001B[0m\u001B[0m\n\u001B[1;32m   6663\u001B[0m         \u001B[0;32mreturn\u001B[0m \u001B[0mself\u001B[0m\u001B[0;34m.\u001B[0m\u001B[0mdelete\u001B[0m\u001B[0;34m(\u001B[0m\u001B[0mindexer\u001B[0m\u001B[0;34m)\u001B[0m\u001B[0;34m\u001B[0m\u001B[0;34m\u001B[0m\u001B[0m\n",
      "\u001B[0;31mKeyError\u001B[0m: \"['Country', 'Region'] not found in axis\""
     ]
    }
   ],
   "source": [
    "joined_countries = joined_countries.drop([\"Country\", \"Region\"], axis=1)"
   ],
   "metadata": {
    "collapsed": false,
    "ExecuteTime": {
     "start_time": "2023-06-22T15:47:04.563059Z",
     "end_time": "2023-06-22T15:47:04.629534Z"
    }
   }
  },
  {
   "cell_type": "code",
   "execution_count": 135,
   "outputs": [],
   "source": [
    "joined_countries.columns = np.arange(1931,2017)"
   ],
   "metadata": {
    "collapsed": false,
    "ExecuteTime": {
     "start_time": "2023-06-22T15:47:28.557223Z",
     "end_time": "2023-06-22T15:47:28.584308Z"
    }
   }
  },
  {
   "cell_type": "code",
   "execution_count": 150,
   "outputs": [],
   "source": [
    "gloria_subset_to_cao_subset_years = gloria_subset_to_cao[np.arange(1990, 2017)]"
   ],
   "metadata": {
    "collapsed": false,
    "ExecuteTime": {
     "start_time": "2023-06-22T15:50:32.794069Z",
     "end_time": "2023-06-22T15:50:32.841775Z"
    }
   }
  },
  {
   "cell_type": "code",
   "execution_count": 156,
   "outputs": [],
   "source": [
    "gloria_subset_to_cao_subset_years = gloria_subset_to_cao_subset_years / 100"
   ],
   "metadata": {
    "collapsed": false,
    "ExecuteTime": {
     "start_time": "2023-06-22T15:51:21.945967Z",
     "end_time": "2023-06-22T15:51:21.998992Z"
    }
   }
  },
  {
   "cell_type": "code",
   "execution_count": 157,
   "outputs": [],
   "source": [
    "joined_countries_subset_years = joined_countries[np.arange(1990, 2017)]"
   ],
   "metadata": {
    "collapsed": false,
    "ExecuteTime": {
     "start_time": "2023-06-22T15:51:24.219468Z",
     "end_time": "2023-06-22T15:51:24.254839Z"
    }
   }
  },
  {
   "cell_type": "code",
   "execution_count": 158,
   "outputs": [],
   "source": [
    "all_data = pd.concat([gloria_subset_to_cao_subset_years, joined_countries_subset_years])"
   ],
   "metadata": {
    "collapsed": false,
    "ExecuteTime": {
     "start_time": "2023-06-22T15:51:25.037799Z",
     "end_time": "2023-06-22T15:51:25.088870Z"
    }
   }
  },
  {
   "cell_type": "code",
   "execution_count": 159,
   "outputs": [
    {
     "data": {
      "text/plain": "                                                                                  1990  \\\nMISO2_country         Enduse                         MISO2_Material source               \nAfghanistan           Civil_engineering_except_roads Concrete       GLORIA    0.354320   \nAlbania               Civil_engineering_except_roads Concrete       GLORIA    0.354013   \nAlgeria               Civil_engineering_except_roads Concrete       GLORIA    0.072205   \nAngola                Civil_engineering_except_roads Concrete       GLORIA    0.366813   \nArgentina             Civil_engineering_except_roads Concrete       GLORIA    0.473660   \n...                                                                                ...   \nMontenegro            Civil_engineering_except_roads Concrete       Cao 2016  0.396868   \nSerbia (incl. Kosovo) Buildings                      Concrete       Cao 2016  0.603132   \n                      Civil_engineering_except_roads Concrete       Cao 2016  0.396868   \nSlovenia              Buildings                      Concrete       Cao 2016  0.603132   \n                      Civil_engineering_except_roads Concrete       Cao 2016  0.396868   \n\n                                                                                  1991  \\\nMISO2_country         Enduse                         MISO2_Material source               \nAfghanistan           Civil_engineering_except_roads Concrete       GLORIA    0.312665   \nAlbania               Civil_engineering_except_roads Concrete       GLORIA    0.191773   \nAlgeria               Civil_engineering_except_roads Concrete       GLORIA    0.048373   \nAngola                Civil_engineering_except_roads Concrete       GLORIA    0.402531   \nArgentina             Civil_engineering_except_roads Concrete       GLORIA    0.477916   \n...                                                                                ...   \nMontenegro            Civil_engineering_except_roads Concrete       Cao 2016  0.396868   \nSerbia (incl. Kosovo) Buildings                      Concrete       Cao 2016  0.603132   \n                      Civil_engineering_except_roads Concrete       Cao 2016  0.396868   \nSlovenia              Buildings                      Concrete       Cao 2016  0.603132   \n                      Civil_engineering_except_roads Concrete       Cao 2016  0.396868   \n\n                                                                                  1992  \\\nMISO2_country         Enduse                         MISO2_Material source               \nAfghanistan           Civil_engineering_except_roads Concrete       GLORIA    0.321103   \nAlbania               Civil_engineering_except_roads Concrete       GLORIA    0.193282   \nAlgeria               Civil_engineering_except_roads Concrete       GLORIA    0.279787   \nAngola                Civil_engineering_except_roads Concrete       GLORIA    0.369898   \nArgentina             Civil_engineering_except_roads Concrete       GLORIA    0.480679   \n...                                                                                ...   \nMontenegro            Civil_engineering_except_roads Concrete       Cao 2016  0.396868   \nSerbia (incl. Kosovo) Buildings                      Concrete       Cao 2016  0.603132   \n                      Civil_engineering_except_roads Concrete       Cao 2016  0.396868   \nSlovenia              Buildings                      Concrete       Cao 2016  0.603132   \n                      Civil_engineering_except_roads Concrete       Cao 2016  0.396868   \n\n                                                                                  1993  \\\nMISO2_country         Enduse                         MISO2_Material source               \nAfghanistan           Civil_engineering_except_roads Concrete       GLORIA    0.324559   \nAlbania               Civil_engineering_except_roads Concrete       GLORIA    0.163983   \nAlgeria               Civil_engineering_except_roads Concrete       GLORIA    0.289225   \nAngola                Civil_engineering_except_roads Concrete       GLORIA    0.377562   \nArgentina             Civil_engineering_except_roads Concrete       GLORIA    0.211202   \n...                                                                                ...   \nMontenegro            Civil_engineering_except_roads Concrete       Cao 2016  0.399599   \nSerbia (incl. Kosovo) Buildings                      Concrete       Cao 2016  0.600401   \n                      Civil_engineering_except_roads Concrete       Cao 2016  0.399599   \nSlovenia              Buildings                      Concrete       Cao 2016  0.600401   \n                      Civil_engineering_except_roads Concrete       Cao 2016  0.399599   \n\n                                                                                  1994  \\\nMISO2_country         Enduse                         MISO2_Material source               \nAfghanistan           Civil_engineering_except_roads Concrete       GLORIA    0.302056   \nAlbania               Civil_engineering_except_roads Concrete       GLORIA    0.154061   \nAlgeria               Civil_engineering_except_roads Concrete       GLORIA    0.341642   \nAngola                Civil_engineering_except_roads Concrete       GLORIA    0.404583   \nArgentina             Civil_engineering_except_roads Concrete       GLORIA    0.479736   \n...                                                                                ...   \nMontenegro            Civil_engineering_except_roads Concrete       Cao 2016  0.396687   \nSerbia (incl. Kosovo) Buildings                      Concrete       Cao 2016  0.603313   \n                      Civil_engineering_except_roads Concrete       Cao 2016  0.396687   \nSlovenia              Buildings                      Concrete       Cao 2016  0.603313   \n                      Civil_engineering_except_roads Concrete       Cao 2016  0.396687   \n\n                                                                                  1995  \\\nMISO2_country         Enduse                         MISO2_Material source               \nAfghanistan           Civil_engineering_except_roads Concrete       GLORIA    0.463186   \nAlbania               Civil_engineering_except_roads Concrete       GLORIA    0.415724   \nAlgeria               Civil_engineering_except_roads Concrete       GLORIA    0.469349   \nAngola                Civil_engineering_except_roads Concrete       GLORIA    0.422418   \nArgentina             Civil_engineering_except_roads Concrete       GLORIA    0.388491   \n...                                                                                ...   \nMontenegro            Civil_engineering_except_roads Concrete       Cao 2016  0.392988   \nSerbia (incl. Kosovo) Buildings                      Concrete       Cao 2016  0.607012   \n                      Civil_engineering_except_roads Concrete       Cao 2016  0.392988   \nSlovenia              Buildings                      Concrete       Cao 2016  0.607012   \n                      Civil_engineering_except_roads Concrete       Cao 2016  0.392988   \n\n                                                                                  1996  \\\nMISO2_country         Enduse                         MISO2_Material source               \nAfghanistan           Civil_engineering_except_roads Concrete       GLORIA    0.465108   \nAlbania               Civil_engineering_except_roads Concrete       GLORIA    0.469168   \nAlgeria               Civil_engineering_except_roads Concrete       GLORIA    0.465010   \nAngola                Civil_engineering_except_roads Concrete       GLORIA    0.421604   \nArgentina             Civil_engineering_except_roads Concrete       GLORIA    0.393127   \n...                                                                                ...   \nMontenegro            Civil_engineering_except_roads Concrete       Cao 2016  0.391506   \nSerbia (incl. Kosovo) Buildings                      Concrete       Cao 2016  0.608494   \n                      Civil_engineering_except_roads Concrete       Cao 2016  0.391506   \nSlovenia              Buildings                      Concrete       Cao 2016  0.608494   \n                      Civil_engineering_except_roads Concrete       Cao 2016  0.391506   \n\n                                                                                  1997  \\\nMISO2_country         Enduse                         MISO2_Material source               \nAfghanistan           Civil_engineering_except_roads Concrete       GLORIA    0.407228   \nAlbania               Civil_engineering_except_roads Concrete       GLORIA    0.534056   \nAlgeria               Civil_engineering_except_roads Concrete       GLORIA    0.461822   \nAngola                Civil_engineering_except_roads Concrete       GLORIA    0.393320   \nArgentina             Civil_engineering_except_roads Concrete       GLORIA    0.387091   \n...                                                                                ...   \nMontenegro            Civil_engineering_except_roads Concrete       Cao 2016  0.390918   \nSerbia (incl. Kosovo) Buildings                      Concrete       Cao 2016  0.609082   \n                      Civil_engineering_except_roads Concrete       Cao 2016  0.390918   \nSlovenia              Buildings                      Concrete       Cao 2016  0.609082   \n                      Civil_engineering_except_roads Concrete       Cao 2016  0.390918   \n\n                                                                                  1998  \\\nMISO2_country         Enduse                         MISO2_Material source               \nAfghanistan           Civil_engineering_except_roads Concrete       GLORIA    0.417320   \nAlbania               Civil_engineering_except_roads Concrete       GLORIA    0.479277   \nAlgeria               Civil_engineering_except_roads Concrete       GLORIA    0.466964   \nAngola                Civil_engineering_except_roads Concrete       GLORIA    0.411528   \nArgentina             Civil_engineering_except_roads Concrete       GLORIA    0.401217   \n...                                                                                ...   \nMontenegro            Civil_engineering_except_roads Concrete       Cao 2016  0.386553   \nSerbia (incl. Kosovo) Buildings                      Concrete       Cao 2016  0.613447   \n                      Civil_engineering_except_roads Concrete       Cao 2016  0.386553   \nSlovenia              Buildings                      Concrete       Cao 2016  0.613447   \n                      Civil_engineering_except_roads Concrete       Cao 2016  0.386553   \n\n                                                                                  1999  \\\nMISO2_country         Enduse                         MISO2_Material source               \nAfghanistan           Civil_engineering_except_roads Concrete       GLORIA    0.465469   \nAlbania               Civil_engineering_except_roads Concrete       GLORIA    0.466703   \nAlgeria               Civil_engineering_except_roads Concrete       GLORIA    0.463700   \nAngola                Civil_engineering_except_roads Concrete       GLORIA    0.391171   \nArgentina             Civil_engineering_except_roads Concrete       GLORIA    0.390860   \n...                                                                                ...   \nMontenegro            Civil_engineering_except_roads Concrete       Cao 2016  0.388793   \nSerbia (incl. Kosovo) Buildings                      Concrete       Cao 2016  0.611207   \n                      Civil_engineering_except_roads Concrete       Cao 2016  0.388793   \nSlovenia              Buildings                      Concrete       Cao 2016  0.611207   \n                      Civil_engineering_except_roads Concrete       Cao 2016  0.388793   \n\n                                                                              ...  \\\nMISO2_country         Enduse                         MISO2_Material source    ...   \nAfghanistan           Civil_engineering_except_roads Concrete       GLORIA    ...   \nAlbania               Civil_engineering_except_roads Concrete       GLORIA    ...   \nAlgeria               Civil_engineering_except_roads Concrete       GLORIA    ...   \nAngola                Civil_engineering_except_roads Concrete       GLORIA    ...   \nArgentina             Civil_engineering_except_roads Concrete       GLORIA    ...   \n...                                                                           ...   \nMontenegro            Civil_engineering_except_roads Concrete       Cao 2016  ...   \nSerbia (incl. Kosovo) Buildings                      Concrete       Cao 2016  ...   \n                      Civil_engineering_except_roads Concrete       Cao 2016  ...   \nSlovenia              Buildings                      Concrete       Cao 2016  ...   \n                      Civil_engineering_except_roads Concrete       Cao 2016  ...   \n\n                                                                                  2007  \\\nMISO2_country         Enduse                         MISO2_Material source               \nAfghanistan           Civil_engineering_except_roads Concrete       GLORIA    0.445440   \nAlbania               Civil_engineering_except_roads Concrete       GLORIA    0.682802   \nAlgeria               Civil_engineering_except_roads Concrete       GLORIA    0.469478   \nAngola                Civil_engineering_except_roads Concrete       GLORIA    0.423832   \nArgentina             Civil_engineering_except_roads Concrete       GLORIA    0.418033   \n...                                                                                ...   \nMontenegro            Civil_engineering_except_roads Concrete       Cao 2016  0.393299   \nSerbia (incl. Kosovo) Buildings                      Concrete       Cao 2016  0.606701   \n                      Civil_engineering_except_roads Concrete       Cao 2016  0.393299   \nSlovenia              Buildings                      Concrete       Cao 2016  0.606701   \n                      Civil_engineering_except_roads Concrete       Cao 2016  0.393299   \n\n                                                                                  2008  \\\nMISO2_country         Enduse                         MISO2_Material source               \nAfghanistan           Civil_engineering_except_roads Concrete       GLORIA    0.412032   \nAlbania               Civil_engineering_except_roads Concrete       GLORIA    0.647253   \nAlgeria               Civil_engineering_except_roads Concrete       GLORIA    0.470871   \nAngola                Civil_engineering_except_roads Concrete       GLORIA    0.473495   \nArgentina             Civil_engineering_except_roads Concrete       GLORIA    0.414102   \n...                                                                                ...   \nMontenegro            Civil_engineering_except_roads Concrete       Cao 2016  0.411719   \nSerbia (incl. Kosovo) Buildings                      Concrete       Cao 2016  0.588281   \n                      Civil_engineering_except_roads Concrete       Cao 2016  0.411719   \nSlovenia              Buildings                      Concrete       Cao 2016  0.588281   \n                      Civil_engineering_except_roads Concrete       Cao 2016  0.411719   \n\n                                                                                  2009  \\\nMISO2_country         Enduse                         MISO2_Material source               \nAfghanistan           Civil_engineering_except_roads Concrete       GLORIA    0.415364   \nAlbania               Civil_engineering_except_roads Concrete       GLORIA    0.474344   \nAlgeria               Civil_engineering_except_roads Concrete       GLORIA    0.482285   \nAngola                Civil_engineering_except_roads Concrete       GLORIA    0.461255   \nArgentina             Civil_engineering_except_roads Concrete       GLORIA    0.389443   \n...                                                                                ...   \nMontenegro            Civil_engineering_except_roads Concrete       Cao 2016  0.431727   \nSerbia (incl. Kosovo) Buildings                      Concrete       Cao 2016  0.568273   \n                      Civil_engineering_except_roads Concrete       Cao 2016  0.431727   \nSlovenia              Buildings                      Concrete       Cao 2016  0.568273   \n                      Civil_engineering_except_roads Concrete       Cao 2016  0.431727   \n\n                                                                                  2010  \\\nMISO2_country         Enduse                         MISO2_Material source               \nAfghanistan           Civil_engineering_except_roads Concrete       GLORIA    0.385259   \nAlbania               Civil_engineering_except_roads Concrete       GLORIA    0.603264   \nAlgeria               Civil_engineering_except_roads Concrete       GLORIA    0.475804   \nAngola                Civil_engineering_except_roads Concrete       GLORIA    0.470917   \nArgentina             Civil_engineering_except_roads Concrete       GLORIA    0.405662   \n...                                                                                ...   \nMontenegro            Civil_engineering_except_roads Concrete       Cao 2016  0.465331   \nSerbia (incl. Kosovo) Buildings                      Concrete       Cao 2016  0.534669   \n                      Civil_engineering_except_roads Concrete       Cao 2016  0.465331   \nSlovenia              Buildings                      Concrete       Cao 2016  0.534669   \n                      Civil_engineering_except_roads Concrete       Cao 2016  0.465331   \n\n                                                                                  2011  \\\nMISO2_country         Enduse                         MISO2_Material source               \nAfghanistan           Civil_engineering_except_roads Concrete       GLORIA    0.435029   \nAlbania               Civil_engineering_except_roads Concrete       GLORIA    0.584117   \nAlgeria               Civil_engineering_except_roads Concrete       GLORIA    0.476463   \nAngola                Civil_engineering_except_roads Concrete       GLORIA    0.463848   \nArgentina             Civil_engineering_except_roads Concrete       GLORIA    0.393323   \n...                                                                                ...   \nMontenegro            Civil_engineering_except_roads Concrete       Cao 2016  0.475549   \nSerbia (incl. Kosovo) Buildings                      Concrete       Cao 2016  0.524451   \n                      Civil_engineering_except_roads Concrete       Cao 2016  0.475549   \nSlovenia              Buildings                      Concrete       Cao 2016  0.524451   \n                      Civil_engineering_except_roads Concrete       Cao 2016  0.475549   \n\n                                                                                  2012  \\\nMISO2_country         Enduse                         MISO2_Material source               \nAfghanistan           Civil_engineering_except_roads Concrete       GLORIA    0.441358   \nAlbania               Civil_engineering_except_roads Concrete       GLORIA    0.591975   \nAlgeria               Civil_engineering_except_roads Concrete       GLORIA    0.475986   \nAngola                Civil_engineering_except_roads Concrete       GLORIA    0.457703   \nArgentina             Civil_engineering_except_roads Concrete       GLORIA    0.369064   \n...                                                                                ...   \nMontenegro            Civil_engineering_except_roads Concrete       Cao 2016  0.470300   \nSerbia (incl. Kosovo) Buildings                      Concrete       Cao 2016  0.529700   \n                      Civil_engineering_except_roads Concrete       Cao 2016  0.470300   \nSlovenia              Buildings                      Concrete       Cao 2016  0.529700   \n                      Civil_engineering_except_roads Concrete       Cao 2016  0.470300   \n\n                                                                                  2013  \\\nMISO2_country         Enduse                         MISO2_Material source               \nAfghanistan           Civil_engineering_except_roads Concrete       GLORIA    0.457029   \nAlbania               Civil_engineering_except_roads Concrete       GLORIA    0.621966   \nAlgeria               Civil_engineering_except_roads Concrete       GLORIA    0.476521   \nAngola                Civil_engineering_except_roads Concrete       GLORIA    0.457584   \nArgentina             Civil_engineering_except_roads Concrete       GLORIA    0.385943   \n...                                                                                ...   \nMontenegro            Civil_engineering_except_roads Concrete       Cao 2016  0.463451   \nSerbia (incl. Kosovo) Buildings                      Concrete       Cao 2016  0.536549   \n                      Civil_engineering_except_roads Concrete       Cao 2016  0.463451   \nSlovenia              Buildings                      Concrete       Cao 2016  0.536549   \n                      Civil_engineering_except_roads Concrete       Cao 2016  0.463451   \n\n                                                                                  2014  \\\nMISO2_country         Enduse                         MISO2_Material source               \nAfghanistan           Civil_engineering_except_roads Concrete       GLORIA    0.488686   \nAlbania               Civil_engineering_except_roads Concrete       GLORIA    0.475236   \nAlgeria               Civil_engineering_except_roads Concrete       GLORIA    0.480499   \nAngola                Civil_engineering_except_roads Concrete       GLORIA    0.451314   \nArgentina             Civil_engineering_except_roads Concrete       GLORIA    0.405869   \n...                                                                                ...   \nMontenegro            Civil_engineering_except_roads Concrete       Cao 2016  0.463451   \nSerbia (incl. Kosovo) Buildings                      Concrete       Cao 2016  0.536549   \n                      Civil_engineering_except_roads Concrete       Cao 2016  0.463451   \nSlovenia              Buildings                      Concrete       Cao 2016  0.536549   \n                      Civil_engineering_except_roads Concrete       Cao 2016  0.463451   \n\n                                                                                  2015  \\\nMISO2_country         Enduse                         MISO2_Material source               \nAfghanistan           Civil_engineering_except_roads Concrete       GLORIA    0.511650   \nAlbania               Civil_engineering_except_roads Concrete       GLORIA    0.471492   \nAlgeria               Civil_engineering_except_roads Concrete       GLORIA    0.488592   \nAngola                Civil_engineering_except_roads Concrete       GLORIA    0.491670   \nArgentina             Civil_engineering_except_roads Concrete       GLORIA    0.346538   \n...                                                                                ...   \nMontenegro            Civil_engineering_except_roads Concrete       Cao 2016  0.463451   \nSerbia (incl. Kosovo) Buildings                      Concrete       Cao 2016  0.536549   \n                      Civil_engineering_except_roads Concrete       Cao 2016  0.463451   \nSlovenia              Buildings                      Concrete       Cao 2016  0.536549   \n                      Civil_engineering_except_roads Concrete       Cao 2016  0.463451   \n\n                                                                                  2016  \nMISO2_country         Enduse                         MISO2_Material source              \nAfghanistan           Civil_engineering_except_roads Concrete       GLORIA    0.521821  \nAlbania               Civil_engineering_except_roads Concrete       GLORIA    0.425122  \nAlgeria               Civil_engineering_except_roads Concrete       GLORIA    0.490878  \nAngola                Civil_engineering_except_roads Concrete       GLORIA    0.496658  \nArgentina             Civil_engineering_except_roads Concrete       GLORIA    0.326841  \n...                                                                                ...  \nMontenegro            Civil_engineering_except_roads Concrete       Cao 2016  0.463451  \nSerbia (incl. Kosovo) Buildings                      Concrete       Cao 2016  0.536549  \n                      Civil_engineering_except_roads Concrete       Cao 2016  0.463451  \nSlovenia              Buildings                      Concrete       Cao 2016  0.536549  \n                      Civil_engineering_except_roads Concrete       Cao 2016  0.463451  \n\n[708 rows x 27 columns]",
      "text/html": "<div>\n<style scoped>\n    .dataframe tbody tr th:only-of-type {\n        vertical-align: middle;\n    }\n\n    .dataframe tbody tr th {\n        vertical-align: top;\n    }\n\n    .dataframe thead th {\n        text-align: right;\n    }\n</style>\n<table border=\"1\" class=\"dataframe\">\n  <thead>\n    <tr style=\"text-align: right;\">\n      <th></th>\n      <th></th>\n      <th></th>\n      <th></th>\n      <th>1990</th>\n      <th>1991</th>\n      <th>1992</th>\n      <th>1993</th>\n      <th>1994</th>\n      <th>1995</th>\n      <th>1996</th>\n      <th>1997</th>\n      <th>1998</th>\n      <th>1999</th>\n      <th>...</th>\n      <th>2007</th>\n      <th>2008</th>\n      <th>2009</th>\n      <th>2010</th>\n      <th>2011</th>\n      <th>2012</th>\n      <th>2013</th>\n      <th>2014</th>\n      <th>2015</th>\n      <th>2016</th>\n    </tr>\n    <tr>\n      <th>MISO2_country</th>\n      <th>Enduse</th>\n      <th>MISO2_Material</th>\n      <th>source</th>\n      <th></th>\n      <th></th>\n      <th></th>\n      <th></th>\n      <th></th>\n      <th></th>\n      <th></th>\n      <th></th>\n      <th></th>\n      <th></th>\n      <th></th>\n      <th></th>\n      <th></th>\n      <th></th>\n      <th></th>\n      <th></th>\n      <th></th>\n      <th></th>\n      <th></th>\n      <th></th>\n      <th></th>\n    </tr>\n  </thead>\n  <tbody>\n    <tr>\n      <th>Afghanistan</th>\n      <th>Civil_engineering_except_roads</th>\n      <th>Concrete</th>\n      <th>GLORIA</th>\n      <td>0.354320</td>\n      <td>0.312665</td>\n      <td>0.321103</td>\n      <td>0.324559</td>\n      <td>0.302056</td>\n      <td>0.463186</td>\n      <td>0.465108</td>\n      <td>0.407228</td>\n      <td>0.417320</td>\n      <td>0.465469</td>\n      <td>...</td>\n      <td>0.445440</td>\n      <td>0.412032</td>\n      <td>0.415364</td>\n      <td>0.385259</td>\n      <td>0.435029</td>\n      <td>0.441358</td>\n      <td>0.457029</td>\n      <td>0.488686</td>\n      <td>0.511650</td>\n      <td>0.521821</td>\n    </tr>\n    <tr>\n      <th>Albania</th>\n      <th>Civil_engineering_except_roads</th>\n      <th>Concrete</th>\n      <th>GLORIA</th>\n      <td>0.354013</td>\n      <td>0.191773</td>\n      <td>0.193282</td>\n      <td>0.163983</td>\n      <td>0.154061</td>\n      <td>0.415724</td>\n      <td>0.469168</td>\n      <td>0.534056</td>\n      <td>0.479277</td>\n      <td>0.466703</td>\n      <td>...</td>\n      <td>0.682802</td>\n      <td>0.647253</td>\n      <td>0.474344</td>\n      <td>0.603264</td>\n      <td>0.584117</td>\n      <td>0.591975</td>\n      <td>0.621966</td>\n      <td>0.475236</td>\n      <td>0.471492</td>\n      <td>0.425122</td>\n    </tr>\n    <tr>\n      <th>Algeria</th>\n      <th>Civil_engineering_except_roads</th>\n      <th>Concrete</th>\n      <th>GLORIA</th>\n      <td>0.072205</td>\n      <td>0.048373</td>\n      <td>0.279787</td>\n      <td>0.289225</td>\n      <td>0.341642</td>\n      <td>0.469349</td>\n      <td>0.465010</td>\n      <td>0.461822</td>\n      <td>0.466964</td>\n      <td>0.463700</td>\n      <td>...</td>\n      <td>0.469478</td>\n      <td>0.470871</td>\n      <td>0.482285</td>\n      <td>0.475804</td>\n      <td>0.476463</td>\n      <td>0.475986</td>\n      <td>0.476521</td>\n      <td>0.480499</td>\n      <td>0.488592</td>\n      <td>0.490878</td>\n    </tr>\n    <tr>\n      <th>Angola</th>\n      <th>Civil_engineering_except_roads</th>\n      <th>Concrete</th>\n      <th>GLORIA</th>\n      <td>0.366813</td>\n      <td>0.402531</td>\n      <td>0.369898</td>\n      <td>0.377562</td>\n      <td>0.404583</td>\n      <td>0.422418</td>\n      <td>0.421604</td>\n      <td>0.393320</td>\n      <td>0.411528</td>\n      <td>0.391171</td>\n      <td>...</td>\n      <td>0.423832</td>\n      <td>0.473495</td>\n      <td>0.461255</td>\n      <td>0.470917</td>\n      <td>0.463848</td>\n      <td>0.457703</td>\n      <td>0.457584</td>\n      <td>0.451314</td>\n      <td>0.491670</td>\n      <td>0.496658</td>\n    </tr>\n    <tr>\n      <th>Argentina</th>\n      <th>Civil_engineering_except_roads</th>\n      <th>Concrete</th>\n      <th>GLORIA</th>\n      <td>0.473660</td>\n      <td>0.477916</td>\n      <td>0.480679</td>\n      <td>0.211202</td>\n      <td>0.479736</td>\n      <td>0.388491</td>\n      <td>0.393127</td>\n      <td>0.387091</td>\n      <td>0.401217</td>\n      <td>0.390860</td>\n      <td>...</td>\n      <td>0.418033</td>\n      <td>0.414102</td>\n      <td>0.389443</td>\n      <td>0.405662</td>\n      <td>0.393323</td>\n      <td>0.369064</td>\n      <td>0.385943</td>\n      <td>0.405869</td>\n      <td>0.346538</td>\n      <td>0.326841</td>\n    </tr>\n    <tr>\n      <th>...</th>\n      <th>...</th>\n      <th>...</th>\n      <th>...</th>\n      <td>...</td>\n      <td>...</td>\n      <td>...</td>\n      <td>...</td>\n      <td>...</td>\n      <td>...</td>\n      <td>...</td>\n      <td>...</td>\n      <td>...</td>\n      <td>...</td>\n      <td>...</td>\n      <td>...</td>\n      <td>...</td>\n      <td>...</td>\n      <td>...</td>\n      <td>...</td>\n      <td>...</td>\n      <td>...</td>\n      <td>...</td>\n      <td>...</td>\n      <td>...</td>\n    </tr>\n    <tr>\n      <th>Montenegro</th>\n      <th>Civil_engineering_except_roads</th>\n      <th>Concrete</th>\n      <th>Cao 2016</th>\n      <td>0.396868</td>\n      <td>0.396868</td>\n      <td>0.396868</td>\n      <td>0.399599</td>\n      <td>0.396687</td>\n      <td>0.392988</td>\n      <td>0.391506</td>\n      <td>0.390918</td>\n      <td>0.386553</td>\n      <td>0.388793</td>\n      <td>...</td>\n      <td>0.393299</td>\n      <td>0.411719</td>\n      <td>0.431727</td>\n      <td>0.465331</td>\n      <td>0.475549</td>\n      <td>0.470300</td>\n      <td>0.463451</td>\n      <td>0.463451</td>\n      <td>0.463451</td>\n      <td>0.463451</td>\n    </tr>\n    <tr>\n      <th rowspan=\"2\" valign=\"top\">Serbia (incl. Kosovo)</th>\n      <th>Buildings</th>\n      <th>Concrete</th>\n      <th>Cao 2016</th>\n      <td>0.603132</td>\n      <td>0.603132</td>\n      <td>0.603132</td>\n      <td>0.600401</td>\n      <td>0.603313</td>\n      <td>0.607012</td>\n      <td>0.608494</td>\n      <td>0.609082</td>\n      <td>0.613447</td>\n      <td>0.611207</td>\n      <td>...</td>\n      <td>0.606701</td>\n      <td>0.588281</td>\n      <td>0.568273</td>\n      <td>0.534669</td>\n      <td>0.524451</td>\n      <td>0.529700</td>\n      <td>0.536549</td>\n      <td>0.536549</td>\n      <td>0.536549</td>\n      <td>0.536549</td>\n    </tr>\n    <tr>\n      <th>Civil_engineering_except_roads</th>\n      <th>Concrete</th>\n      <th>Cao 2016</th>\n      <td>0.396868</td>\n      <td>0.396868</td>\n      <td>0.396868</td>\n      <td>0.399599</td>\n      <td>0.396687</td>\n      <td>0.392988</td>\n      <td>0.391506</td>\n      <td>0.390918</td>\n      <td>0.386553</td>\n      <td>0.388793</td>\n      <td>...</td>\n      <td>0.393299</td>\n      <td>0.411719</td>\n      <td>0.431727</td>\n      <td>0.465331</td>\n      <td>0.475549</td>\n      <td>0.470300</td>\n      <td>0.463451</td>\n      <td>0.463451</td>\n      <td>0.463451</td>\n      <td>0.463451</td>\n    </tr>\n    <tr>\n      <th rowspan=\"2\" valign=\"top\">Slovenia</th>\n      <th>Buildings</th>\n      <th>Concrete</th>\n      <th>Cao 2016</th>\n      <td>0.603132</td>\n      <td>0.603132</td>\n      <td>0.603132</td>\n      <td>0.600401</td>\n      <td>0.603313</td>\n      <td>0.607012</td>\n      <td>0.608494</td>\n      <td>0.609082</td>\n      <td>0.613447</td>\n      <td>0.611207</td>\n      <td>...</td>\n      <td>0.606701</td>\n      <td>0.588281</td>\n      <td>0.568273</td>\n      <td>0.534669</td>\n      <td>0.524451</td>\n      <td>0.529700</td>\n      <td>0.536549</td>\n      <td>0.536549</td>\n      <td>0.536549</td>\n      <td>0.536549</td>\n    </tr>\n    <tr>\n      <th>Civil_engineering_except_roads</th>\n      <th>Concrete</th>\n      <th>Cao 2016</th>\n      <td>0.396868</td>\n      <td>0.396868</td>\n      <td>0.396868</td>\n      <td>0.399599</td>\n      <td>0.396687</td>\n      <td>0.392988</td>\n      <td>0.391506</td>\n      <td>0.390918</td>\n      <td>0.386553</td>\n      <td>0.388793</td>\n      <td>...</td>\n      <td>0.393299</td>\n      <td>0.411719</td>\n      <td>0.431727</td>\n      <td>0.465331</td>\n      <td>0.475549</td>\n      <td>0.470300</td>\n      <td>0.463451</td>\n      <td>0.463451</td>\n      <td>0.463451</td>\n      <td>0.463451</td>\n    </tr>\n  </tbody>\n</table>\n<p>708 rows × 27 columns</p>\n</div>"
     },
     "execution_count": 159,
     "metadata": {},
     "output_type": "execute_result"
    }
   ],
   "source": [
    "all_data"
   ],
   "metadata": {
    "collapsed": false,
    "ExecuteTime": {
     "start_time": "2023-06-22T15:51:25.474117Z",
     "end_time": "2023-06-22T15:51:25.514415Z"
    }
   }
  },
  {
   "cell_type": "code",
   "execution_count": 183,
   "outputs": [
    {
     "data": {
      "text/plain": "array([[-0.20656582, -0.25293915, -0.24765417, ..., -0.04911821,\n        -0.0650697 , -0.07371565],\n       [-0.04254716, -0.08420226, -0.07576474, ...,  0.0252357 ,\n         0.04819913,  0.05837042],\n       [-0.21347865, -0.40418483, -0.446847  , ..., -0.06871328,\n        -0.21525846, -0.25333459],\n       ...,\n       [-0.11162099, -0.11070107, -0.1393765 , ..., -0.08320579,\n        -0.04651447, -0.03696529],\n       [-0.18213458, -0.16155741, -0.17578916, ..., -0.14002094,\n        -0.48740016, -0.48183134],\n       [-0.05335148, -0.04033828, -0.03208631, ..., -0.10961613,\n        -0.4051147 , -0.41087674]])"
     },
     "execution_count": 183,
     "metadata": {},
     "output_type": "execute_result"
    }
   ],
   "source": [
    "gloria_subset_to_cao_subset_years.sort_index().values - joined_countries_subset_years.sort_index().values"
   ],
   "metadata": {
    "collapsed": false,
    "ExecuteTime": {
     "start_time": "2023-06-22T16:12:01.715919Z",
     "end_time": "2023-06-22T16:12:01.765134Z"
    }
   }
  },
  {
   "cell_type": "code",
   "execution_count": 185,
   "outputs": [
    {
     "ename": "ValueError",
     "evalue": "Can only compare identically-labeled DataFrame objects",
     "output_type": "error",
     "traceback": [
      "\u001B[0;31m---------------------------------------------------------------------------\u001B[0m",
      "\u001B[0;31mValueError\u001B[0m                                Traceback (most recent call last)",
      "\u001B[0;32m/var/folders/4q/804dfx4s3fngls3qxy2frhd80000gp/T/ipykernel_89588/1652534226.py\u001B[0m in \u001B[0;36m<module>\u001B[0;34m\u001B[0m\n\u001B[0;32m----> 1\u001B[0;31m \u001B[0mgloria_subset_to_cao_subset_years\u001B[0m\u001B[0;34m.\u001B[0m\u001B[0mcompare\u001B[0m\u001B[0;34m(\u001B[0m\u001B[0mjoined_countries_subset_years\u001B[0m\u001B[0;34m)\u001B[0m\u001B[0;34m\u001B[0m\u001B[0;34m\u001B[0m\u001B[0m\n\u001B[0m",
      "\u001B[0;32m~/opt/anaconda3/lib/python3.9/site-packages/pandas/core/frame.py\u001B[0m in \u001B[0;36mcompare\u001B[0;34m(self, other, align_axis, keep_shape, keep_equal)\u001B[0m\n\u001B[1;32m   7200\u001B[0m         \u001B[0mkeep_equal\u001B[0m\u001B[0;34m:\u001B[0m \u001B[0mbool\u001B[0m \u001B[0;34m=\u001B[0m \u001B[0;32mFalse\u001B[0m\u001B[0;34m,\u001B[0m\u001B[0;34m\u001B[0m\u001B[0;34m\u001B[0m\u001B[0m\n\u001B[1;32m   7201\u001B[0m     ) -> DataFrame:\n\u001B[0;32m-> 7202\u001B[0;31m         return super().compare(\n\u001B[0m\u001B[1;32m   7203\u001B[0m             \u001B[0mother\u001B[0m\u001B[0;34m=\u001B[0m\u001B[0mother\u001B[0m\u001B[0;34m,\u001B[0m\u001B[0;34m\u001B[0m\u001B[0;34m\u001B[0m\u001B[0m\n\u001B[1;32m   7204\u001B[0m             \u001B[0malign_axis\u001B[0m\u001B[0;34m=\u001B[0m\u001B[0malign_axis\u001B[0m\u001B[0;34m,\u001B[0m\u001B[0;34m\u001B[0m\u001B[0;34m\u001B[0m\u001B[0m\n",
      "\u001B[0;32m~/opt/anaconda3/lib/python3.9/site-packages/pandas/core/generic.py\u001B[0m in \u001B[0;36mcompare\u001B[0;34m(self, other, align_axis, keep_shape, keep_equal)\u001B[0m\n\u001B[1;32m   8645\u001B[0m             )\n\u001B[1;32m   8646\u001B[0m \u001B[0;34m\u001B[0m\u001B[0m\n\u001B[0;32m-> 8647\u001B[0;31m         \u001B[0mmask\u001B[0m \u001B[0;34m=\u001B[0m \u001B[0;34m~\u001B[0m\u001B[0;34m(\u001B[0m\u001B[0;34m(\u001B[0m\u001B[0mself\u001B[0m \u001B[0;34m==\u001B[0m \u001B[0mother\u001B[0m\u001B[0;34m)\u001B[0m \u001B[0;34m|\u001B[0m \u001B[0;34m(\u001B[0m\u001B[0mself\u001B[0m\u001B[0;34m.\u001B[0m\u001B[0misna\u001B[0m\u001B[0;34m(\u001B[0m\u001B[0;34m)\u001B[0m \u001B[0;34m&\u001B[0m \u001B[0mother\u001B[0m\u001B[0;34m.\u001B[0m\u001B[0misna\u001B[0m\u001B[0;34m(\u001B[0m\u001B[0;34m)\u001B[0m\u001B[0;34m)\u001B[0m\u001B[0;34m)\u001B[0m\u001B[0;34m\u001B[0m\u001B[0;34m\u001B[0m\u001B[0m\n\u001B[0m\u001B[1;32m   8648\u001B[0m         \u001B[0mkeys\u001B[0m \u001B[0;34m=\u001B[0m \u001B[0;34m[\u001B[0m\u001B[0;34m\"self\"\u001B[0m\u001B[0;34m,\u001B[0m \u001B[0;34m\"other\"\u001B[0m\u001B[0;34m]\u001B[0m\u001B[0;34m\u001B[0m\u001B[0;34m\u001B[0m\u001B[0m\n\u001B[1;32m   8649\u001B[0m \u001B[0;34m\u001B[0m\u001B[0m\n",
      "\u001B[0;32m~/opt/anaconda3/lib/python3.9/site-packages/pandas/core/ops/common.py\u001B[0m in \u001B[0;36mnew_method\u001B[0;34m(self, other)\u001B[0m\n\u001B[1;32m     68\u001B[0m         \u001B[0mother\u001B[0m \u001B[0;34m=\u001B[0m \u001B[0mitem_from_zerodim\u001B[0m\u001B[0;34m(\u001B[0m\u001B[0mother\u001B[0m\u001B[0;34m)\u001B[0m\u001B[0;34m\u001B[0m\u001B[0;34m\u001B[0m\u001B[0m\n\u001B[1;32m     69\u001B[0m \u001B[0;34m\u001B[0m\u001B[0m\n\u001B[0;32m---> 70\u001B[0;31m         \u001B[0;32mreturn\u001B[0m \u001B[0mmethod\u001B[0m\u001B[0;34m(\u001B[0m\u001B[0mself\u001B[0m\u001B[0;34m,\u001B[0m \u001B[0mother\u001B[0m\u001B[0;34m)\u001B[0m\u001B[0;34m\u001B[0m\u001B[0;34m\u001B[0m\u001B[0m\n\u001B[0m\u001B[1;32m     71\u001B[0m \u001B[0;34m\u001B[0m\u001B[0m\n\u001B[1;32m     72\u001B[0m     \u001B[0;32mreturn\u001B[0m \u001B[0mnew_method\u001B[0m\u001B[0;34m\u001B[0m\u001B[0;34m\u001B[0m\u001B[0m\n",
      "\u001B[0;32m~/opt/anaconda3/lib/python3.9/site-packages/pandas/core/arraylike.py\u001B[0m in \u001B[0;36m__eq__\u001B[0;34m(self, other)\u001B[0m\n\u001B[1;32m     38\u001B[0m     \u001B[0;34m@\u001B[0m\u001B[0munpack_zerodim_and_defer\u001B[0m\u001B[0;34m(\u001B[0m\u001B[0;34m\"__eq__\"\u001B[0m\u001B[0;34m)\u001B[0m\u001B[0;34m\u001B[0m\u001B[0;34m\u001B[0m\u001B[0m\n\u001B[1;32m     39\u001B[0m     \u001B[0;32mdef\u001B[0m \u001B[0m__eq__\u001B[0m\u001B[0;34m(\u001B[0m\u001B[0mself\u001B[0m\u001B[0;34m,\u001B[0m \u001B[0mother\u001B[0m\u001B[0;34m)\u001B[0m\u001B[0;34m:\u001B[0m\u001B[0;34m\u001B[0m\u001B[0;34m\u001B[0m\u001B[0m\n\u001B[0;32m---> 40\u001B[0;31m         \u001B[0;32mreturn\u001B[0m \u001B[0mself\u001B[0m\u001B[0;34m.\u001B[0m\u001B[0m_cmp_method\u001B[0m\u001B[0;34m(\u001B[0m\u001B[0mother\u001B[0m\u001B[0;34m,\u001B[0m \u001B[0moperator\u001B[0m\u001B[0;34m.\u001B[0m\u001B[0meq\u001B[0m\u001B[0;34m)\u001B[0m\u001B[0;34m\u001B[0m\u001B[0;34m\u001B[0m\u001B[0m\n\u001B[0m\u001B[1;32m     41\u001B[0m \u001B[0;34m\u001B[0m\u001B[0m\n\u001B[1;32m     42\u001B[0m     \u001B[0;34m@\u001B[0m\u001B[0munpack_zerodim_and_defer\u001B[0m\u001B[0;34m(\u001B[0m\u001B[0;34m\"__ne__\"\u001B[0m\u001B[0;34m)\u001B[0m\u001B[0;34m\u001B[0m\u001B[0;34m\u001B[0m\u001B[0m\n",
      "\u001B[0;32m~/opt/anaconda3/lib/python3.9/site-packages/pandas/core/frame.py\u001B[0m in \u001B[0;36m_cmp_method\u001B[0;34m(self, other, op)\u001B[0m\n\u001B[1;32m   6938\u001B[0m         \u001B[0maxis\u001B[0m \u001B[0;34m=\u001B[0m \u001B[0;36m1\u001B[0m  \u001B[0;31m# only relevant for Series other case\u001B[0m\u001B[0;34m\u001B[0m\u001B[0;34m\u001B[0m\u001B[0m\n\u001B[1;32m   6939\u001B[0m \u001B[0;34m\u001B[0m\u001B[0m\n\u001B[0;32m-> 6940\u001B[0;31m         \u001B[0mself\u001B[0m\u001B[0;34m,\u001B[0m \u001B[0mother\u001B[0m \u001B[0;34m=\u001B[0m \u001B[0mops\u001B[0m\u001B[0;34m.\u001B[0m\u001B[0malign_method_FRAME\u001B[0m\u001B[0;34m(\u001B[0m\u001B[0mself\u001B[0m\u001B[0;34m,\u001B[0m \u001B[0mother\u001B[0m\u001B[0;34m,\u001B[0m \u001B[0maxis\u001B[0m\u001B[0;34m,\u001B[0m \u001B[0mflex\u001B[0m\u001B[0;34m=\u001B[0m\u001B[0;32mFalse\u001B[0m\u001B[0;34m,\u001B[0m \u001B[0mlevel\u001B[0m\u001B[0;34m=\u001B[0m\u001B[0;32mNone\u001B[0m\u001B[0;34m)\u001B[0m\u001B[0;34m\u001B[0m\u001B[0;34m\u001B[0m\u001B[0m\n\u001B[0m\u001B[1;32m   6941\u001B[0m \u001B[0;34m\u001B[0m\u001B[0m\n\u001B[1;32m   6942\u001B[0m         \u001B[0;31m# See GH#4537 for discussion of scalar op behavior\u001B[0m\u001B[0;34m\u001B[0m\u001B[0;34m\u001B[0m\u001B[0m\n",
      "\u001B[0;32m~/opt/anaconda3/lib/python3.9/site-packages/pandas/core/ops/__init__.py\u001B[0m in \u001B[0;36malign_method_FRAME\u001B[0;34m(left, right, axis, flex, level)\u001B[0m\n\u001B[1;32m    287\u001B[0m                 \u001B[0mleft\u001B[0m\u001B[0;34m,\u001B[0m \u001B[0mright\u001B[0m \u001B[0;34m=\u001B[0m \u001B[0mleft\u001B[0m\u001B[0;34m.\u001B[0m\u001B[0malign\u001B[0m\u001B[0;34m(\u001B[0m\u001B[0mright\u001B[0m\u001B[0;34m,\u001B[0m \u001B[0mjoin\u001B[0m\u001B[0;34m=\u001B[0m\u001B[0;34m\"outer\"\u001B[0m\u001B[0;34m,\u001B[0m \u001B[0mlevel\u001B[0m\u001B[0;34m=\u001B[0m\u001B[0mlevel\u001B[0m\u001B[0;34m,\u001B[0m \u001B[0mcopy\u001B[0m\u001B[0;34m=\u001B[0m\u001B[0;32mFalse\u001B[0m\u001B[0;34m)\u001B[0m\u001B[0;34m\u001B[0m\u001B[0;34m\u001B[0m\u001B[0m\n\u001B[1;32m    288\u001B[0m             \u001B[0;32melse\u001B[0m\u001B[0;34m:\u001B[0m\u001B[0;34m\u001B[0m\u001B[0;34m\u001B[0m\u001B[0m\n\u001B[0;32m--> 289\u001B[0;31m                 raise ValueError(\n\u001B[0m\u001B[1;32m    290\u001B[0m                     \u001B[0;34m\"Can only compare identically-labeled DataFrame objects\"\u001B[0m\u001B[0;34m\u001B[0m\u001B[0;34m\u001B[0m\u001B[0m\n\u001B[1;32m    291\u001B[0m                 )\n",
      "\u001B[0;31mValueError\u001B[0m: Can only compare identically-labeled DataFrame objects"
     ]
    }
   ],
   "source": [
    "gloria_subset_to_cao_subset_years.compare(joined_countries_subset_years)"
   ],
   "metadata": {
    "collapsed": false
   }
  },
  {
   "cell_type": "code",
   "execution_count": 176,
   "outputs": [
    {
     "data": {
      "text/plain": "source    GLORIA  Cao 2016\n1990    0.435371      0.57\n1991    0.459686      0.57\n1992    0.443322      0.57\n1993    0.437589      0.57\n1994    0.461478      0.57\n1995    0.446728      0.57\n1996    0.442485      0.57\n1997    0.449810      0.57\n1998    0.435823      0.57\n1999    0.441365      0.57\n2000    0.443223      0.57\n2001    0.425649      0.57\n2002    0.440648      0.57\n2003    0.458074      0.57\n2004    0.450198      0.57\n2005    0.449154      0.46\n2006    0.434014      0.46\n2007    0.434894      0.48\n2008    0.424360      0.45\n2009    0.428298      0.45\n2010    0.429533      0.45\n2011    0.428496      0.43\n2012    0.432743      0.41\n2013    0.436928      0.41\n2014    0.432535      0.41\n2015    0.435277      0.41\n2016    0.435333      0.41",
      "text/html": "<div>\n<style scoped>\n    .dataframe tbody tr th:only-of-type {\n        vertical-align: middle;\n    }\n\n    .dataframe tbody tr th {\n        vertical-align: top;\n    }\n\n    .dataframe thead th {\n        text-align: right;\n    }\n</style>\n<table border=\"1\" class=\"dataframe\">\n  <thead>\n    <tr style=\"text-align: right;\">\n      <th>source</th>\n      <th>GLORIA</th>\n      <th>Cao 2016</th>\n    </tr>\n  </thead>\n  <tbody>\n    <tr>\n      <th>1990</th>\n      <td>0.435371</td>\n      <td>0.57</td>\n    </tr>\n    <tr>\n      <th>1991</th>\n      <td>0.459686</td>\n      <td>0.57</td>\n    </tr>\n    <tr>\n      <th>1992</th>\n      <td>0.443322</td>\n      <td>0.57</td>\n    </tr>\n    <tr>\n      <th>1993</th>\n      <td>0.437589</td>\n      <td>0.57</td>\n    </tr>\n    <tr>\n      <th>1994</th>\n      <td>0.461478</td>\n      <td>0.57</td>\n    </tr>\n    <tr>\n      <th>1995</th>\n      <td>0.446728</td>\n      <td>0.57</td>\n    </tr>\n    <tr>\n      <th>1996</th>\n      <td>0.442485</td>\n      <td>0.57</td>\n    </tr>\n    <tr>\n      <th>1997</th>\n      <td>0.449810</td>\n      <td>0.57</td>\n    </tr>\n    <tr>\n      <th>1998</th>\n      <td>0.435823</td>\n      <td>0.57</td>\n    </tr>\n    <tr>\n      <th>1999</th>\n      <td>0.441365</td>\n      <td>0.57</td>\n    </tr>\n    <tr>\n      <th>2000</th>\n      <td>0.443223</td>\n      <td>0.57</td>\n    </tr>\n    <tr>\n      <th>2001</th>\n      <td>0.425649</td>\n      <td>0.57</td>\n    </tr>\n    <tr>\n      <th>2002</th>\n      <td>0.440648</td>\n      <td>0.57</td>\n    </tr>\n    <tr>\n      <th>2003</th>\n      <td>0.458074</td>\n      <td>0.57</td>\n    </tr>\n    <tr>\n      <th>2004</th>\n      <td>0.450198</td>\n      <td>0.57</td>\n    </tr>\n    <tr>\n      <th>2005</th>\n      <td>0.449154</td>\n      <td>0.46</td>\n    </tr>\n    <tr>\n      <th>2006</th>\n      <td>0.434014</td>\n      <td>0.46</td>\n    </tr>\n    <tr>\n      <th>2007</th>\n      <td>0.434894</td>\n      <td>0.48</td>\n    </tr>\n    <tr>\n      <th>2008</th>\n      <td>0.424360</td>\n      <td>0.45</td>\n    </tr>\n    <tr>\n      <th>2009</th>\n      <td>0.428298</td>\n      <td>0.45</td>\n    </tr>\n    <tr>\n      <th>2010</th>\n      <td>0.429533</td>\n      <td>0.45</td>\n    </tr>\n    <tr>\n      <th>2011</th>\n      <td>0.428496</td>\n      <td>0.43</td>\n    </tr>\n    <tr>\n      <th>2012</th>\n      <td>0.432743</td>\n      <td>0.41</td>\n    </tr>\n    <tr>\n      <th>2013</th>\n      <td>0.436928</td>\n      <td>0.41</td>\n    </tr>\n    <tr>\n      <th>2014</th>\n      <td>0.432535</td>\n      <td>0.41</td>\n    </tr>\n    <tr>\n      <th>2015</th>\n      <td>0.435277</td>\n      <td>0.41</td>\n    </tr>\n    <tr>\n      <th>2016</th>\n      <td>0.435333</td>\n      <td>0.41</td>\n    </tr>\n  </tbody>\n</table>\n</div>"
     },
     "execution_count": 176,
     "metadata": {},
     "output_type": "execute_result"
    }
   ],
   "source": [
    "import matplotlib.pyplot as plt\n",
    "import seaborn as sns\n",
    "subset = all_data.loc[(\"Austria\", \"Buildings\", \"Concrete\", slice(None))]"
   ],
   "metadata": {
    "collapsed": false,
    "ExecuteTime": {
     "start_time": "2023-06-22T15:54:42.528948Z",
     "end_time": "2023-06-22T15:54:42.563086Z"
    }
   }
  },
  {
   "cell_type": "code",
   "execution_count": 179,
   "outputs": [
    {
     "data": {
      "text/plain": "<AxesSubplot:>"
     },
     "execution_count": 179,
     "metadata": {},
     "output_type": "execute_result"
    },
    {
     "data": {
      "text/plain": "<Figure size 640x480 with 1 Axes>",
      "image/png": "[encoded data removed]"
     },
     "metadata": {},
     "output_type": "display_data"
    }
   ],
   "source": [
    "sns.lineplot(data=subset.T)"
   ],
   "metadata": {
    "collapsed": false,
    "ExecuteTime": {
     "start_time": "2023-06-22T15:55:02.307378Z",
     "end_time": "2023-06-22T15:55:02.458061Z"
    }
   }
  }
 ],
 "metadata": {
  "kernelspec": {
   "display_name": "Python 3",
   "language": "python",
   "name": "python3"
  },
  "language_info": {
   "codemirror_mode": {
    "name": "ipython",
    "version": 2
   },
   "file_extension": ".py",
   "mimetype": "text/x-python",
   "name": "python",
   "nbconvert_exporter": "python",
   "pygments_lexer": "ipython2",
   "version": "2.7.6"
  }
 },
 "nbformat": 4,
 "nbformat_minor": 0
}
